{
 "cells": [
  {
   "cell_type": "markdown",
   "metadata": {},
   "source": [
    "# **Introduction to Dask**\n",
    "\n",
    "Dask is a **parallel computing library** in Python that helps handle large datasets and perform computations efficiently by leveraging multi-core CPUs and distributed clusters. It integrates seamlessly with popular libraries like **Pandas**, **NumPy**, and **Scikit-learn**, providing scalable solutions for data analysis and machine learning.\n",
    "\n",
    "---\n",
    "\n",
    "## **Key Features of Dask**\n",
    "1. **Parallel Computing**: Enables computations to be executed on multiple cores or distributed systems.\n",
    "2. **Lazy Evaluation**: Constructs task graphs that are only executed when needed, saving memory and improving efficiency.\n",
    "3. **Seamless Integration**: Works with tools like Pandas, NumPy, Scikit-learn, and others to scale workflows.\n",
    "4. **Data Scaling**: Handles datasets that are too large to fit into memory by chunking data into manageable pieces.\n",
    "5. **Cluster Management**: Supports distributed computation across clusters using Dask's distributed scheduler.\n",
    "\n",
    "---\n",
    "\n",
    "## **Core Components**\n",
    "\n",
    "### 1. **Dask DataFrame**\n",
    "- Extends Pandas DataFrames to handle larger-than-memory datasets.\n",
    "- Supports operations like grouping, filtering, and aggregations.\n",
    "- **When to use?** When your dataset is too large for Pandas to handle.\n"
   ]
  },
  {
   "cell_type": "markdown",
   "metadata": {},
   "source": [
    "\n",
    "---\n",
    "\n",
    "## **Benefits of Dask**\n",
    "1. **Scalability**: Works on both single machines and distributed clusters.\n",
    "2. **Efficiency**: Optimized for parallel computations and memory management.\n",
    "3. **Flexibility**: Supports diverse workloads (dataframes, arrays, custom computations).\n",
    "4. **Ease of Use**: Integrates with familiar tools like Pandas, NumPy, and Scikit-learn.\n",
    "\n",
    "---\n",
    "\n",
    "## **When to Use Dask?**\n",
    "- Your dataset is **too large** to fit in memory.\n",
    "- Your computations are **slow** due to single-threaded execution.\n",
    "- You need to distribute tasks across **multiple machines** or cores.\n",
    "- You want to optimize your **machine learning** pipeline.\n",
    "\n",
    "---\n",
    "\n",
    "## **Dask Ecosystem**\n",
    "- **Dask Scheduler**: Executes tasks in parallel.\n",
    "- **Dask Distributed**: Scales computations to clusters.\n",
    "- **Dask Gateway**: Manages cluster access for teams."
   ]
  },
  {
   "cell_type": "markdown",
   "metadata": {},
   "source": [
    "## **Exploring Dask**"
   ]
  },
  {
   "cell_type": "code",
   "execution_count": 1,
   "metadata": {},
   "outputs": [],
   "source": [
    "# Import necessary libraries\n",
    "import dask.dataframe as dd\n",
    "import dask.array as da\n",
    "from dask.distributed import Client\n",
    "import dask.bag as db\n",
    "import matplotlib.pyplot as plt\n",
    "import numpy as np\n"
   ]
  },
  {
   "cell_type": "code",
   "execution_count": 2,
   "metadata": {},
   "outputs": [
    {
     "name": "stdout",
     "output_type": "stream",
     "text": [
      "<Client: 'tcp://127.0.0.1:55180' processes=4 threads=12, memory=31.95 GiB>\n"
     ]
    }
   ],
   "source": [
    "# Start a Dask distributed client (optional, for monitoring in Dask dashboard)\n",
    "client = Client()\n",
    "print(client)"
   ]
  },
  {
   "cell_type": "code",
   "execution_count": 6,
   "metadata": {},
   "outputs": [
    {
     "name": "stdout",
     "output_type": "stream",
     "text": [
      "\n",
      "--- 1. Dask DataFrame ---\n",
      "Head of the DataFrame:\n",
      "   PassengerId  Survived  Pclass  \\\n",
      "0            1         0       3   \n",
      "1            2         1       1   \n",
      "2            3         1       3   \n",
      "3            4         1       1   \n",
      "4            5         0       3   \n",
      "\n",
      "                                                Name     Sex   Age  SibSp  \\\n",
      "0                            Braund, Mr. Owen Harris    male  22.0      1   \n",
      "1  Cumings, Mrs. John Bradley (Florence Briggs Th...  female  38.0      1   \n",
      "2                             Heikkinen, Miss. Laina  female  26.0      0   \n",
      "3       Futrelle, Mrs. Jacques Heath (Lily May Peel)  female  35.0      1   \n",
      "4                           Allen, Mr. William Henry    male  35.0      0   \n",
      "\n",
      "   Parch            Ticket     Fare Cabin Embarked  \n",
      "0      0         A/5 21171   7.2500  <NA>        S  \n",
      "1      0          PC 17599  71.2833   C85        C  \n",
      "2      0  STON/O2. 3101282   7.9250  <NA>        S  \n",
      "3      0            113803  53.1000  C123        S  \n",
      "4      0            373450   8.0500  <NA>        S  \n",
      "\n",
      "DataFrame Info:\n",
      "<class 'dask.dataframe.core.DataFrame'>\n",
      "Columns: 12 entries, PassengerId to Embarked\n",
      "dtypes: float64(2), int64(5), string(5)None\n"
     ]
    }
   ],
   "source": [
    "# 1. Exploring Dask DataFrames\n",
    "print(\"\\n--- 1. Dask DataFrame ---\")\n",
    "\n",
    "# Load a large CSV file with Dask (use a sample dataset if no large file is available)\n",
    "url = \"https://raw.githubusercontent.com/datasciencedojo/datasets/master/titanic.csv\"\n",
    "df = dd.read_csv(url)\n",
    "\n",
    "# Perform basic operations\n",
    "print(\"Head of the DataFrame:\")\n",
    "print(df.head())\n",
    "\n",
    "print(\"\\nDataFrame Info:\")\n",
    "print(df.info())\n"
   ]
  },
  {
   "cell_type": "code",
   "execution_count": 7,
   "metadata": {},
   "outputs": [
    {
     "name": "stdout",
     "output_type": "stream",
     "text": [
      "\n",
      "Mean Age by Passenger Class:\n",
      "Pclass\n",
      "1    38.233441\n",
      "2    29.877630\n",
      "3    25.140620\n",
      "Name: Age, dtype: float64\n"
     ]
    },
    {
     "data": {
      "image/png": "[encoded data removed]",
      "text/plain": [
       "<Figure size 640x480 with 1 Axes>"
      ]
     },
     "metadata": {},
     "output_type": "display_data"
    }
   ],
   "source": [
    "# Grouping and computing mean for a column\n",
    "mean_age = df.groupby('Pclass')['Age'].mean().compute()\n",
    "print(f\"\\nMean Age by Passenger Class:\\n{mean_age}\")\n",
    "\n",
    "# Visualizing data (requires computation)\n",
    "df['Age'].compute().hist(bins=20)\n",
    "plt.title('Age Distribution')\n",
    "plt.xlabel('Age')\n",
    "plt.ylabel('Frequency')\n",
    "plt.show()\n"
   ]
  },
  {
   "cell_type": "code",
   "execution_count": 8,
   "metadata": {},
   "outputs": [
    {
     "name": "stdout",
     "output_type": "stream",
     "text": [
      "\n",
      "--- 2. Dask Arrays ---\n",
      "\n",
      "Array Mean (computed lazily): dask.array<mean_agg-aggregate, shape=(10000,), dtype=float64, chunksize=(1000,), chunktype=numpy.ndarray>\n",
      "\n",
      "Computed Array Mean (first 10 values): [0.49862425 0.50163252 0.50203343 0.49860099 0.50471765 0.49924389\n",
      " 0.50105553 0.50188164 0.50296528 0.50250131]\n"
     ]
    },
    {
     "data": {
      "image/png": "[encoded data removed]",
      "text/plain": [
       "<Figure size 640x480 with 2 Axes>"
      ]
     },
     "metadata": {},
     "output_type": "display_data"
    }
   ],
   "source": [
    "# 2. Exploring Dask Arrays\n",
    "print(\"\\n--- 2. Dask Arrays ---\")\n",
    "\n",
    "# Create a large Dask array\n",
    "x = da.random.random((10000, 10000), chunks=(1000, 1000))\n",
    "\n",
    "# Perform operations\n",
    "result = x.mean(axis=0)\n",
    "print(\"\\nArray Mean (computed lazily):\", result)\n",
    "\n",
    "# Compute the result\n",
    "computed_result = result.compute()\n",
    "print(\"\\nComputed Array Mean (first 10 values):\", computed_result[:10])\n",
    "\n",
    "# Visualize a subset of the array\n",
    "plt.imshow(x[:100, :100].compute(), cmap='viridis')\n",
    "plt.colorbar()\n",
    "plt.title(\"Subset of Random Array\")\n",
    "plt.show()\n"
   ]
  },
  {
   "cell_type": "code",
   "execution_count": 48,
   "metadata": {},
   "outputs": [
    {
     "name": "stdout",
     "output_type": "stream",
     "text": [
      "\n",
      "--- 3. Dask Bags ---\n",
      "\n",
      "Word Counts: [('apple', 3), ('banana', 2), ('carrot', 1)]\n"
     ]
    }
   ],
   "source": [
    "# 3. Exploring Dask Bags (Unstructured data)\n",
    "print(\"\\n--- 3. Dask Bags ---\")\n",
    "\n",
    "# Create a Dask bag from a text file or iterable\n",
    "bag = db.from_sequence(['apple', 'banana', 'carrot', 'apple', 'banana', 'apple'], npartitions=1)\n",
    "\n",
    "# Perform map and reduce operations\n",
    "bag_counts = bag.map(lambda x: (x, 1)).foldby(lambda x: x[0], lambda acc, x: acc + 1, initial=0)\n",
    "print(\"\\nWord Counts:\", bag_counts.compute())"
   ]
  },
  {
   "cell_type": "code",
   "execution_count": 50,
   "metadata": {},
   "outputs": [],
   "source": [
    "from dask_ml.datasets import make_classification\n",
    "from dask_ml.model_selection import train_test_split\n",
    "from dask_ml.linear_model import LogisticRegression\n",
    "from sklearn.metrics import accuracy_score"
   ]
  },
  {
   "cell_type": "code",
   "execution_count": 51,
   "metadata": {},
   "outputs": [
    {
     "name": "stdout",
     "output_type": "stream",
     "text": [
      "\n",
      "--- 4. Dask-ML ---\n"
     ]
    },
    {
     "name": "stderr",
     "output_type": "stream",
     "text": [
      "d:\\anaconda\\envs\\venv\\Lib\\site-packages\\dask\\base.py:1103: UserWarning: Running on a single-machine scheduler when a distributed client is active might lead to unexpected results.\n",
      "  warnings.warn(\n"
     ]
    },
    {
     "name": "stdout",
     "output_type": "stream",
     "text": [
      "\n",
      "Model Accuracy: 0.67\n"
     ]
    }
   ],
   "source": [
    "# 4. Machine Learning with Dask-ML\n",
    "print(\"\\n--- 4. Dask-ML ---\")\n",
    "# Generate synthetic data\n",
    "X, y = make_classification(n_samples=100000, n_features=10, chunks=10000, random_state=42)\n",
    "\n",
    "# Split into train and test sets\n",
    "X_train, X_test, y_train, y_test = train_test_split(X, y, test_size=0.2)\n",
    "\n",
    "# Train a logistic regression model\n",
    "model = LogisticRegression()\n",
    "model.fit(X_train, y_train)\n",
    "\n",
    "# Predict and evaluate\n",
    "y_pred = model.predict(X_test)\n",
    "accuracy = accuracy_score(y_test.compute(), y_pred.compute())\n",
    "print(f\"\\nModel Accuracy: {accuracy:.2f}\")"
   ]
  },
  {
   "cell_type": "code",
   "execution_count": 4,
   "metadata": {},
   "outputs": [
    {
     "name": "stdout",
     "output_type": "stream",
     "text": [
      "\n",
      "--- 5. Dask Delayed ---\n",
      "\n",
      "Dask Delayed Result (Lazy): Delayed('sum_list-27d86bab-d086-4779-963f-a812636d9c4b')\n",
      "Computed Result: 30\n"
     ]
    }
   ],
   "source": [
    "# 5. Using Dask Delayed for Custom Parallel Workflows\n",
    "print(\"\\n--- 5. Dask Delayed ---\")\n",
    "\n",
    "from dask import delayed\n",
    "\n",
    "# Define a delayed function\n",
    "@delayed\n",
    "def add(x, y):\n",
    "    return x + y\n",
    "\n",
    "@delayed\n",
    "def multiply(x, y):\n",
    "    return x * y\n",
    "\n",
    "@delayed\n",
    "def sum_list(values):\n",
    "    return sum(values)\n",
    "\n",
    "# Build a computation graph\n",
    "a = add(1, 2)\n",
    "b = multiply(3, 4)\n",
    "c = add(a, b)\n",
    "result = sum_list([a, b, c])\n",
    "\n",
    "print(\"\\nDask Delayed Result (Lazy):\", result)\n",
    "computed_result = result.compute()\n",
    "print(\"Computed Result:\", computed_result)\n"
   ]
  },
  {
   "cell_type": "code",
   "execution_count": 16,
   "metadata": {},
   "outputs": [
    {
     "name": "stdout",
     "output_type": "stream",
     "text": [
      "\n",
      "--- 6. Visualization ---\n",
      "Computation graph saved as 'dask_graph.png'.\n",
      "\n",
      "--- 7. Scaling with Dask ---\n",
      "You can use Dask's distributed capabilities to scale this code to a cluster!\n"
     ]
    }
   ],
   "source": [
    "# 6. Visualizing Dask Computation Graphs\n",
    "print(\"\\n--- 6. Visualization ---\")\n",
    "\n",
    "# Visualize a Dask computation graph (requires graphviz)\n",
    "result.visualize(filename='dask_graph', format='json')\n",
    "print(\"Computation graph saved as 'dask_graph.png'.\")\n",
    "\n",
    "# 7. Scaling with Dask Clusters\n",
    "print(\"\\n--- 7. Scaling with Dask ---\")\n",
    "print(\"You can use Dask's distributed capabilities to scale this code to a cluster!\")\n",
    "\n",
    "# Shut down the Dask client\n",
    "client.close()\n"
   ]
  },
  {
   "cell_type": "markdown",
   "metadata": {},
   "source": [
    "## **Dask vs Pandas**"
   ]
  },
  {
   "cell_type": "code",
   "execution_count": 21,
   "metadata": {},
   "outputs": [],
   "source": [
    "import pandas as pd\n",
    "import dask.dataframe as dd\n",
    "import time\n",
    "import numpy as np\n",
    "import os"
   ]
  },
  {
   "cell_type": "code",
   "execution_count": 28,
   "metadata": {},
   "outputs": [],
   "source": [
    "# Generate a large CSV file (if not already available)\n",
    "large_csv = \"large_dataset.csv\"\n",
    "rows = 100_000_000\n",
    "if not os.path.exists(large_csv):\n",
    "    print(\"Generating a large dataset...\")\n",
    "    data = {\n",
    "        \"id\": np.arange(rows),\n",
    "        \"value\": np.random.rand(rows),\n",
    "        \"category\": np.random.choice([\"A\", \"B\", \"C\"], size=rows),\n",
    "    }\n",
    "    df = pd.DataFrame(data)\n",
    "    df.to_csv(large_csv, index=False)\n"
   ]
  },
  {
   "cell_type": "code",
   "execution_count": 30,
   "metadata": {},
   "outputs": [
    {
     "name": "stdout",
     "output_type": "stream",
     "text": [
      "\n",
      "--- 1. Comparing Loading Time ---\n",
      "Pandas Loading Time: 2.94 seconds\n",
      "Dask Loading Time (Lazy): 0.00 seconds\n"
     ]
    }
   ],
   "source": [
    "# 1. Comparing Loading Time\n",
    "print(\"\\n--- 1. Comparing Loading Time ---\")\n",
    "\n",
    "# Pandas\n",
    "start = time.time()\n",
    "pandas_df = pd.read_csv(large_csv)\n",
    "pandas_load_time = time.time() - start\n",
    "print(f\"Pandas Loading Time: {pandas_load_time:.2f} seconds\")\n",
    "\n",
    "# Dask\n",
    "start = time.time()\n",
    "dask_df = dd.read_csv(large_csv)\n",
    "dask_load_time = time.time() - start\n",
    "print(f\"Dask Loading Time (Lazy): {dask_load_time:.2f} seconds\")"
   ]
  },
  {
   "cell_type": "code",
   "execution_count": 31,
   "metadata": {},
   "outputs": [
    {
     "name": "stdout",
     "output_type": "stream",
     "text": [
      "\n",
      "--- 2. Comparing Aggregations ---\n",
      "Pandas Aggregation Time: 0.40 seconds\n",
      "Pandas Aggregation Result:\n",
      "category\n",
      "A    0.499979\n",
      "B    0.499692\n",
      "C    0.499726\n",
      "Name: value, dtype: float64\n",
      "Dask Aggregation Time: 1.63 seconds\n",
      "Dask Aggregation Result:\n",
      "category\n",
      "A    0.499979\n",
      "B    0.499692\n",
      "C    0.499726\n",
      "Name: value, dtype: float64\n"
     ]
    }
   ],
   "source": [
    "# 2. Comparing Aggregations\n",
    "print(\"\\n--- 2. Comparing Aggregations ---\")\n",
    "\n",
    "# Pandas\n",
    "start = time.time()\n",
    "pandas_agg = pandas_df.groupby(\"category\")[\"value\"].mean()\n",
    "pandas_agg_time = time.time() - start\n",
    "print(f\"Pandas Aggregation Time: {pandas_agg_time:.2f} seconds\")\n",
    "print(\"Pandas Aggregation Result:\")\n",
    "print(pandas_agg)\n",
    "\n",
    "# Dask\n",
    "start = time.time()\n",
    "dask_agg = dask_df.groupby(\"category\")[\"value\"].mean().compute()\n",
    "dask_agg_time = time.time() - start\n",
    "print(f\"Dask Aggregation Time: {dask_agg_time:.2f} seconds\")\n",
    "print(\"Dask Aggregation Result:\")\n",
    "print(dask_agg)"
   ]
  },
  {
   "cell_type": "code",
   "execution_count": 32,
   "metadata": {},
   "outputs": [
    {
     "name": "stdout",
     "output_type": "stream",
     "text": [
      "\n",
      "--- 3. Comparing Filtering Operations ---\n",
      "Pandas Filtering Time: 0.13 seconds\n",
      "Dask Filtering Time: 1.30 seconds\n"
     ]
    }
   ],
   "source": [
    "# 3. Comparing Filtering Operations\n",
    "print(\"\\n--- 3. Comparing Filtering Operations ---\")\n",
    "\n",
    "# Pandas\n",
    "start = time.time()\n",
    "pandas_filter = pandas_df[pandas_df[\"value\"] > 0.5]\n",
    "pandas_filter_time = time.time() - start\n",
    "print(f\"Pandas Filtering Time: {pandas_filter_time:.2f} seconds\")\n",
    "\n",
    "# Dask\n",
    "start = time.time()\n",
    "dask_filter = dask_df[dask_df[\"value\"] > 0.5].compute()\n",
    "dask_filter_time = time.time() - start\n",
    "print(f\"Dask Filtering Time: {dask_filter_time:.2f} seconds\")"
   ]
  },
  {
   "cell_type": "code",
   "execution_count": 33,
   "metadata": {},
   "outputs": [
    {
     "name": "stdout",
     "output_type": "stream",
     "text": [
      "\n",
      "--- 4. Comparing Memory Usage ---\n",
      "Pandas Memory Usage: 629.43 MB\n",
      "Dask Memory Usage (calculated lazily): 629.43 MB\n",
      "\n",
      "--- Observations ---\n",
      "1. Pandas is faster for small datasets but struggles with larger datasets due to memory constraints.\n",
      "2. Dask scales better for larger datasets by leveraging parallelism and lazy computation.\n"
     ]
    }
   ],
   "source": [
    "\n",
    "# 4. Memory Usage\n",
    "print(\"\\n--- 4. Comparing Memory Usage ---\")\n",
    "import sys\n",
    "\n",
    "pandas_memory = pandas_df.memory_usage(deep=True).sum() / 1024**2\n",
    "dask_memory = dask_df.memory_usage(deep=True).sum().compute() / 1024**2\n",
    "\n",
    "print(f\"Pandas Memory Usage: {pandas_memory:.2f} MB\")\n",
    "print(f\"Dask Memory Usage (calculated lazily): {dask_memory:.2f} MB\")\n",
    "\n",
    "# 5. Observations\n",
    "print(\"\\n--- Observations ---\")\n",
    "print(\"1. Pandas is faster for small datasets but struggles with larger datasets due to memory constraints.\")\n",
    "print(\"2. Dask scales better for larger datasets by leveraging parallelism and lazy computation.\")\n"
   ]
  },
  {
   "cell_type": "markdown",
   "metadata": {},
   "source": [
    "# **Dask vs PsSpark**"
   ]
  },
  {
   "cell_type": "markdown",
   "metadata": {},
   "source": [
    "**Dask** and **PySpark** are both tools for distributed computing, but they are designed with slightly different use cases and strengths. Here's a detailed comparison of **Dask** and **PySpark** to help you decide which is better suited for your specific needs.\n",
    "\n",
    "---\n",
    "\n",
    "### **1. General Overview**\n",
    "| Feature         | **Dask**                                           | **PySpark**                                        |\n",
    "|------------------|----------------------------------------------------|---------------------------------------------------|\n",
    "| **Main Purpose** | Parallel computing for Python, extends existing libraries like Pandas, NumPy, and Scikit-learn. | Big data processing, optimized for massive datasets, built on the Hadoop ecosystem. |\n",
    "| **Programming Model** | Python-native, tightly integrated with Python's ecosystem. | Based on the Spark engine, supports SQL, streaming, and machine learning. |\n",
    "| **Ease of Use**  | Python-like APIs; easier for Python developers to pick up. | Requires learning Spark APIs; supports multiple languages. |\n",
    "| **Installation** | Lightweight and Python-only, easy to set up locally. | Heavier, requires JVM and Hadoop/Spark cluster setup. |\n",
    "\n",
    "---\n",
    "\n",
    "### **2. Architecture**\n",
    "| Feature            | **Dask**                                       | **PySpark**                                        |\n",
    "|---------------------|------------------------------------------------|---------------------------------------------------|\n",
    "| **Execution**       | Dynamic task graphs, lazy evaluation like Spark but more lightweight. | DAG (Directed Acyclic Graph) for task scheduling, heavily optimized for large-scale cluster computing. |\n",
    "| **Cluster Manager** | Can integrate with Kubernetes, SLURM, or standalone setups. | Integrates with Hadoop/YARN, Mesos, Kubernetes, or Spark's standalone cluster manager. |\n",
    "| **Parallelism**     | Thread-based, process-based, or distributed on a cluster. | Distributed, designed for clusters. |\n",
    "| **Scalability**     | Scales well for medium to large datasets.       | Built for massive-scale datasets (petabytes). |\n",
    "\n",
    "---\n",
    "\n",
    "### **3. Performance**\n",
    "| Feature             | **Dask**                                       | **PySpark**                                        |\n",
    "|----------------------|------------------------------------------------|---------------------------------------------------|\n",
    "| **Dataset Size**     | Handles datasets larger than memory but works best for datasets <1TB. | Optimized for extremely large datasets (>1TB, petabyte scale). |\n",
    "| **Speed**            | Faster for smaller datasets due to minimal overhead. | Better for extremely large datasets where cluster optimization is critical. |\n",
    "| **Latency**          | Lower latency for smaller jobs.                | Higher initial latency due to JVM and cluster startup overhead. |\n",
    "\n",
    "---\n",
    "\n",
    "### **4. APIs and Ecosystem**\n",
    "| Feature             | **Dask**                                       | **PySpark**                                        |\n",
    "|----------------------|------------------------------------------------|---------------------------------------------------|\n",
    "| **DataFrame API**    | Similar to Pandas; integrates well with Python libraries. | Spark DataFrame API, SQL-like operations.         |\n",
    "| **Machine Learning** | Dask-ML for distributed ML (not as mature as Spark). | MLlib: A mature library for distributed machine learning. |\n",
    "| **Streaming**        | Limited streaming capabilities.                | Spark Streaming for real-time data processing.    |\n",
    "| **SQL Queries**      | Limited SQL support via third-party libraries. | Strong SQL support with Spark SQL.                |\n",
    "\n",
    "---\n",
    "\n",
    "### **5. Setup and Deployment**\n",
    "| Feature             | **Dask**                                       | **PySpark**                                        |\n",
    "|----------------------|------------------------------------------------|---------------------------------------------------|\n",
    "| **Setup**            | Simple: Install with `pip install dask`.       | Heavier setup: Requires Java, Hadoop, and Spark cluster. |\n",
    "| **Integration**      | Python-first, integrates with tools like Pandas, NumPy, and Scikit-learn. | Integrates with Hadoop ecosystem, databases, and enterprise tools. |\n",
    "| **Deployment**       | Local machines or Kubernetes clusters.         | Designed for clusters (e.g., AWS EMR, Databricks, on-premises clusters). |\n",
    "\n",
    "---\n",
    "\n",
    "### **6. When to Use**\n",
    "#### **Dask**\n",
    "- You’re working within the Python ecosystem (e.g., Pandas, NumPy, Scikit-learn).\n",
    "- Your dataset is medium to large (up to 1TB).\n",
    "- You prefer a lightweight, easy-to-install solution.\n",
    "- You need flexible parallelism without relying on a full cluster.\n",
    "- Use cases:\n",
    "  - Data preprocessing.\n",
    "  - Machine learning pipelines with Scikit-learn/Dask-ML.\n",
    "  - Scientific computing.\n",
    "\n",
    "#### **PySpark**\n",
    "- Your data exceeds 1TB or fits within a Hadoop ecosystem.\n",
    "- You’re working with structured or semi-structured data requiring SQL or large-scale ETL processes.\n",
    "- You need a robust, enterprise-grade solution for distributed data processing.\n",
    "- Use cases:\n",
    "  - Big data processing and ETL.\n",
    "  - Real-time streaming.\n",
    "  - Large-scale machine learning with Spark MLlib.\n",
    "\n",
    "---\n",
    "\n",
    "### **Conclusion**\n",
    "\n",
    "| Use Case                  | **Recommended Tool** |\n",
    "|---------------------------|-----------------------|\n",
    "| Medium datasets (<1TB)    | **Dask**             |\n",
    "| Extremely large datasets  | **PySpark**          |\n",
    "| Python-first environment  | **Dask**             |\n",
    "| Hadoop ecosystem          | **PySpark**          |\n",
    "| Real-time streaming        | **PySpark**          |\n",
    "| Fast setup and iteration   | **Dask**             |\n",
    "\n",
    "Both tools are excellent, but the choice depends on the scale of your data and your workflow requirements. Let me know if you’d like deeper insights into either tool!"
   ]
  }
 ],
 "metadata": {
  "kernelspec": {
   "display_name": "venv",
   "language": "python",
   "name": "python3"
  },
  "language_info": {
   "codemirror_mode": {
    "name": "ipython",
    "version": 3
   },
   "file_extension": ".py",
   "mimetype": "text/x-python",
   "name": "python",
   "nbconvert_exporter": "python",
   "pygments_lexer": "ipython3",
   "version": "3.12.4"
  }
 },
 "nbformat": 4,
 "nbformat_minor": 2
}
